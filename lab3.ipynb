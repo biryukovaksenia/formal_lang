{
  "nbformat": 4,
  "nbformat_minor": 0,
  "metadata": {
    "colab": {
      "provenance": []
    },
    "kernelspec": {
      "name": "python3",
      "display_name": "Python 3"
    },
    "language_info": {
      "name": "python"
    }
  },
  "cells": [
    {
      "cell_type": "code",
      "execution_count": 1,
      "metadata": {
        "colab": {
          "base_uri": "https://localhost:8080/"
        },
        "id": "a56Z6D-DAv4E",
        "outputId": "0b17176b-3655-4832-a1a0-82ba3572613a"
      },
      "outputs": [
        {
          "output_type": "stream",
          "name": "stdout",
          "text": [
            "Collecting lark\n",
            "  Downloading lark-1.1.9-py3-none-any.whl (111 kB)\n",
            "\u001b[2K     \u001b[90m━━━━━━━━━━━━━━━━━━━━━━━━━━━━━━━━━━━━━━━━\u001b[0m \u001b[32m111.7/111.7 kB\u001b[0m \u001b[31m2.2 MB/s\u001b[0m eta \u001b[36m0:00:00\u001b[0m\n",
            "\u001b[?25hInstalling collected packages: lark\n",
            "Successfully installed lark-1.1.9\n"
          ]
        }
      ],
      "source": [
        "!pip3 install lark"
      ]
    },
    {
      "cell_type": "code",
      "source": [
        "from lark import Lark, Transformer"
      ],
      "metadata": {
        "id": "TghukKJKAxKI"
      },
      "execution_count": 2,
      "outputs": []
    },
    {
      "cell_type": "code",
      "source": [
        "grammar = \"\"\"\n",
        "    start: select_statement\n",
        "\n",
        "    ?select_statement: \"SELECT\" columns \"FROM\" table (\"WHERE\" where_expression)?\n",
        "\n",
        "    columns: \"*\"\n",
        "           | column (\",\" column)*\n",
        "\n",
        "    column: CNAME\n",
        "\n",
        "    table: CNAME\n",
        "\n",
        "    where_expression: expression\n",
        "\n",
        "    ?expression: term\n",
        "                | expression \"AND\" term\n",
        "                | expression \"OR\" term\n",
        "\n",
        "    term: factor\n",
        "        | factor \"BETWEEN\" factor \"AND\" factor\n",
        "        | factor \"=\" factor\n",
        "        | factor \"!=\" factor\n",
        "        | factor \"<\" factor\n",
        "        | factor \"<=\" factor\n",
        "        | factor \">\" factor\n",
        "        | factor \">=\" factor\n",
        "\n",
        "    factor: CNAME\n",
        "          | NUMBER\n",
        "          | STRING\n",
        "\n",
        "    %import common.CNAME\n",
        "    %import common.NUMBER\n",
        "    %import common.ESCAPED_STRING -> STRING\n",
        "    %ignore \" \"\n",
        "\"\"\"\n",
        "\n",
        "class MyTransformer(Transformer):\n",
        "    def start(self, items):\n",
        "        return items[0]\n",
        "\n",
        "parser = Lark(grammar, parser='lalr', transformer=MyTransformer())\n",
        "\n",
        "def parse_html(input_str):\n",
        "    return parser.parse(input_str)"
      ],
      "metadata": {
        "id": "uDKGLnFgA2_K"
      },
      "execution_count": 7,
      "outputs": []
    },
    {
      "cell_type": "code",
      "source": [
        "sql = \"SELECT name, age FROM users WHERE age >= 18 AND age <= 30\"\n",
        "sql_parsed = parse_html(sql)\n",
        "print(sql_parsed)"
      ],
      "metadata": {
        "colab": {
          "base_uri": "https://localhost:8080/"
        },
        "id": "6VLYgfw2A8bM",
        "outputId": "1c8415ac-21e6-4db5-9d76-b6765967cd5f"
      },
      "execution_count": 12,
      "outputs": [
        {
          "output_type": "stream",
          "name": "stdout",
          "text": [
            "Tree(Token('RULE', 'select_statement'), [Tree(Token('RULE', 'columns'), [Tree(Token('RULE', 'column'), [Token('CNAME', 'name')]), Tree(Token('RULE', 'column'), [Token('CNAME', 'age')])]), Tree(Token('RULE', 'table'), [Token('CNAME', 'users')]), Tree(Token('RULE', 'where_expression'), [Tree(Token('RULE', 'expression'), [Tree(Token('RULE', 'term'), [Tree(Token('RULE', 'factor'), [Token('CNAME', 'age')]), Tree(Token('RULE', 'factor'), [Token('NUMBER', '18')])]), Tree(Token('RULE', 'term'), [Tree(Token('RULE', 'factor'), [Token('CNAME', 'age')]), Tree(Token('RULE', 'factor'), [Token('NUMBER', '30')])])])])])\n"
          ]
        }
      ]
    },
    {
      "cell_type": "code",
      "source": [
        "sql_parser = Lark(grammar, start='start')\n",
        "\n",
        "query = \"SELECT name, age FROM users WHERE age >= 18 AND age <= 30\"\n",
        "parsed = sql_parser.parse(query)\n",
        "\n",
        "print(parsed.pretty())"
      ],
      "metadata": {
        "colab": {
          "base_uri": "https://localhost:8080/"
        },
        "id": "2XXep4oiA699",
        "outputId": "d1903c47-48a4-4e7a-a3ee-35b75d5ebc80"
      },
      "execution_count": 13,
      "outputs": [
        {
          "output_type": "stream",
          "name": "stdout",
          "text": [
            "start\n",
            "  select_statement\n",
            "    columns\n",
            "      column\tname\n",
            "      column\tage\n",
            "    table\tusers\n",
            "    where_expression\n",
            "      expression\n",
            "        term\n",
            "          factor\tage\n",
            "          factor\t18\n",
            "        term\n",
            "          factor\tage\n",
            "          factor\t30\n",
            "\n"
          ]
        }
      ]
    }
  ]
}