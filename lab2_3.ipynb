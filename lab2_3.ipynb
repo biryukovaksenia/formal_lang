{
  "nbformat": 4,
  "nbformat_minor": 0,
  "metadata": {
    "colab": {
      "provenance": []
    },
    "kernelspec": {
      "name": "python3",
      "display_name": "Python 3"
    },
    "language_info": {
      "name": "python"
    }
  },
  "cells": [
    {
      "cell_type": "markdown",
      "source": [
        "## SQL Grammar\n",
        "`statement`: select_statement\n",
        "           | insert_statement\n",
        "           | update_statement\n",
        "           | delete_statement\n",
        "           | create_table_statement\n",
        "  ##### Определяет типы SQL-операций: SELECT, INSERT, UPDATE, DELETE, CREATE TABLE.\n",
        "\n",
        "`select_statement`: \"SELECT\" columns \"FROM\" table_name (\"WHERE\" expression)?\n",
        "  ##### SELECT-запрос с опциональным условием WHERE.\n",
        "\n",
        "`insert_statement`: \"INSERT INTO\" table_name \"(\" columns \")\" \"VALUES\" \"(\" values \")\"\n",
        "  ##### INSERT-запрос для вставки данных в таблицу.\n",
        "\n",
        "`update_statement`: \"UPDATE\" table_name \"SET\" set_list (\"WHERE\" expression)?\n",
        "  ##### UPDATE-запрос для обновления данных в таблице с опциональным условием WHERE.\n",
        "\n",
        "`delete_statement`: \"DELETE FROM\" table_name (\"WHERE\" expression)?\n",
        "  ##### DELETE-запрос для удаления данных из таблицы с опциональным условием WHERE.\n",
        "\n",
        "`create_table_statement`: \"CREATE TABLE\" table_name \"(\" column_defs \")\"\n",
        "  ##### Запрос на создание таблицы с определением столбцов.\n",
        "\n",
        "`columns`: \"*\" | column_list\n",
        "  ##### Список столбцов для выборки, \"*\" означает выбор всех столбцов.\n",
        "\n",
        "`column_list`: NAME (\",\" NAME)*\n",
        "  ##### Определение списка столбцов через запятую.\n",
        "\n",
        "`table_name`: NAME\n",
        "  ##### Имя таблицы.\n",
        "\n",
        "`values`: value (\",\" value)*\n",
        "  ##### Список значений для вставки.\n",
        "\n",
        "`set_list`: set_expression (\",\" set_expression)*\n",
        "  ##### Список выражений для обновления значений столбцов.\n",
        "\n",
        "`set_expression`: NAME \"=\" value\n",
        "  ##### Выражение присвоения значения столбцу.\n",
        "\n",
        "`column_defs`: column_def (\",\" column_def)*\n",
        "  ##### Определения столбцов таблицы.\n",
        "\n",
        "`column_def`: NAME data_type\n",
        "  ##### Определение одного столбца и его типа данных.\n",
        "\n",
        "`data_type`: \"INT\" | \"VARCHAR\" | \"BOOLEAN\"\n",
        "  ##### Допустимые типы данных для столбцов.\n",
        "\n",
        "`value`: NUMBER | STRING | \"TRUE\" | \"FALSE\"\n",
        "  ##### Возможные значения для столбцов.\n",
        "\n",
        "`expression`: simple_expression\n",
        "            | simple_expression logical_operator expression\n",
        "  ##### Логическое выражение, используемое в условиях WHERE.\n",
        "\n",
        "`simple_expression`: NAME comparison_operator value\n",
        "  ##### Простое сравнение столбца и значения.\n",
        "\n",
        "`logical_operator`: \"AND\" | \"OR\"\n",
        "  ##### Логические операторы.\n",
        "\n",
        "`comparison_operator`: \"=\" | \"!=\" | \">\" | \"<\" | \">=\" | \"<=\"\n",
        "  ##### Операторы сравнения."
      ],
      "metadata": {
        "id": "X8DjMImLQHno"
      }
    },
    {
      "cell_type": "markdown",
      "source": [],
      "metadata": {
        "id": "w7T7r8inP6tu"
      }
    },
    {
      "cell_type": "code",
      "execution_count": 52,
      "metadata": {
        "colab": {
          "base_uri": "https://localhost:8080/"
        },
        "id": "a56Z6D-DAv4E",
        "outputId": "eb3f888a-8eec-4834-905c-4658871714e7"
      },
      "outputs": [
        {
          "output_type": "stream",
          "name": "stdout",
          "text": [
            "Requirement already satisfied: lark in /usr/local/lib/python3.10/dist-packages (1.1.9)\n"
          ]
        }
      ],
      "source": [
        "!pip3 install lark"
      ]
    },
    {
      "cell_type": "code",
      "source": [
        "from lark import Lark, Transformer"
      ],
      "metadata": {
        "id": "TghukKJKAxKI"
      },
      "execution_count": 53,
      "outputs": []
    },
    {
      "cell_type": "code",
      "source": [
        "from lark import Lark, Transformer, Tree\n",
        "\n",
        "\n",
        "grammar = \"\"\"\n",
        "    start: statement\n",
        "\n",
        "    statement: select_statement\n",
        "            | insert_statement\n",
        "            | update_statement\n",
        "            | delete_statement\n",
        "            | create_table_statement\n",
        "\n",
        "    select_statement: \"SELECT\" columns \"FROM\" table_name (\"WHERE\" expression)?\n",
        "\n",
        "    insert_statement: \"INSERT INTO\" table_name \"(\" columns \")\" \"VALUES\" \"(\" values \")\"\n",
        "\n",
        "    update_statement: \"UPDATE\" table_name \"SET\" set_list (\"WHERE\" expression)?\n",
        "\n",
        "    delete_statement: \"DELETE FROM\" table_name (\"WHERE\" expression)?\n",
        "\n",
        "    create_table_statement: \"CREATE TABLE\" table_name \"(\" column_defs \")\"\n",
        "\n",
        "    columns: \"*\" | column_list\n",
        "    column_list: NAME (\",\" NAME)*\n",
        "\n",
        "    table_name: NAME\n",
        "\n",
        "    values: value (\",\" value)*\n",
        "\n",
        "    set_list: set_expression (\",\" set_expression)*\n",
        "    set_expression: NAME \"=\" value\n",
        "\n",
        "    column_defs: column_def (\",\" column_def)*\n",
        "    column_def: NAME data_type\n",
        "\n",
        "    data_type: \"INT\" | \"VARCHAR\" | \"BOOLEAN\"\n",
        "\n",
        "    value: NUMBER | STRING | \"TRUE\" | \"FALSE\"\n",
        "\n",
        "    expression: simple_expression\n",
        "              | simple_expression logical_operator expression\n",
        "    simple_expression: NAME comparison_operator value\n",
        "\n",
        "    logical_operator: \"AND\" | \"OR\"\n",
        "    comparison_operator: \"=\" | \"!=\" | \">\" | \"<\" | \">=\" | \"<=\"\n",
        "\n",
        "    %import common.CNAME -> NAME\n",
        "    %import common.NUMBER\n",
        "    %import common.ESCAPED_STRING -> STRING\n",
        "    %ignore \" \"\n",
        "\"\"\"\n",
        "\n",
        "# Создание парсера\n",
        "parser = Lark(grammar, start='start', parser='lalr')\n",
        "\n",
        "class SQLTransformer(Transformer):\n",
        "    def update_statement(self, items):\n",
        "        table_name, set_list, *where_clause = items\n",
        "        update_dict = {\n",
        "            \"table\": str(table_name),\n",
        "            \"set\": set_list,\n",
        "        }\n",
        "        if where_clause:\n",
        "            update_dict[\"where\"] = where_clause[0]\n",
        "        return update_dict\n",
        "\n",
        "    def set_list(self, items):\n",
        "        return dict(items)\n",
        "\n",
        "    def set_expression(self, items):\n",
        "\n",
        "      column_name, value = items\n",
        "      return (str(column_name), str(value))\n",
        "\n",
        "    def expression(self, items):\n",
        "        if len(items) == 1:\n",
        "            return items[0]\n",
        "        else:\n",
        "            # Сложное выражение\n",
        "            return \" \".join(map(str, items))\n",
        "\n",
        "    def simple_expression(self, items):\n",
        "        return \" \".join(map(str, items))\n",
        "\n",
        "def parse_sql(sql):\n",
        "    tree = parser.parse(sql)\n",
        "    transformed_tree = SQLTransformer().transform(tree)\n",
        "    return transformed_tree\n",
        "\n",
        "sql = 'INSERT INTO my_table (id, name) VALUES (1, \"Alice\")'\n",
        "\n",
        "sql_parsed = parse_sql(sql)\n",
        "print(sql_parsed.pretty())"
      ],
      "metadata": {
        "colab": {
          "base_uri": "https://localhost:8080/"
        },
        "id": "C68UZZ-xNo30",
        "outputId": "8a974a84-c39f-45c8-f5bb-13414a9ea135"
      },
      "execution_count": 54,
      "outputs": [
        {
          "output_type": "stream",
          "name": "stdout",
          "text": [
            "start\n",
            "  statement\n",
            "    insert_statement\n",
            "      table_name\tmy_table\n",
            "      columns\n",
            "        column_list\n",
            "          id\n",
            "          name\n",
            "      values\n",
            "        value\t1\n",
            "        value\t\"Alice\"\n",
            "\n"
          ]
        }
      ]
    },
    {
      "cell_type": "code",
      "source": [
        "sql = 'INSERT INTO my_table (id, name) VALUES (1, \"Alice\")'\n",
        "sql_parsed = parse_sql(sql)\n",
        "print(sql_parsed)"
      ],
      "metadata": {
        "colab": {
          "base_uri": "https://localhost:8080/"
        },
        "id": "d09G6LCCOVpc",
        "outputId": "1389a3e4-44c7-497e-cd71-d6ce77598468"
      },
      "execution_count": 55,
      "outputs": [
        {
          "output_type": "stream",
          "name": "stdout",
          "text": [
            "Tree(Token('RULE', 'start'), [Tree(Token('RULE', 'statement'), [Tree(Token('RULE', 'insert_statement'), [Tree(Token('RULE', 'table_name'), [Token('NAME', 'my_table')]), Tree(Token('RULE', 'columns'), [Tree(Token('RULE', 'column_list'), [Token('NAME', 'id'), Token('NAME', 'name')])]), Tree(Token('RULE', 'values'), [Tree(Token('RULE', 'value'), [Token('NUMBER', '1')]), Tree(Token('RULE', 'value'), [Token('STRING', '\"Alice\"')])])])])])\n"
          ]
        }
      ]
    },
    {
      "cell_type": "code",
      "source": [
        "sql = 'UPDATE my_table SET name = \"Alice\", age = 30 WHERE id = 1'\n",
        "sql_parsed = parse_sql(sql)\n",
        "print(sql_parsed)"
      ],
      "metadata": {
        "colab": {
          "base_uri": "https://localhost:8080/"
        },
        "id": "6fA79mpIOiL_",
        "outputId": "7d4cc01a-b7ef-4b98-8430-53f422d07763"
      },
      "execution_count": 56,
      "outputs": [
        {
          "output_type": "stream",
          "name": "stdout",
          "text": [
            "Tree(Token('RULE', 'start'), [Tree(Token('RULE', 'statement'), [{'table': \"Tree(Token('RULE', 'table_name'), [Token('NAME', 'my_table')])\", 'set': {'name': 'Tree(Token(\\'RULE\\', \\'value\\'), [Token(\\'STRING\\', \\'\"Alice\"\\')])', 'age': \"Tree(Token('RULE', 'value'), [Token('NUMBER', '30')])\"}, 'where': \"id Tree(Token('RULE', 'comparison_operator'), []) Tree(Token('RULE', 'value'), [Token('NUMBER', '1')])\"}])])\n"
          ]
        }
      ]
    }
  ]
}